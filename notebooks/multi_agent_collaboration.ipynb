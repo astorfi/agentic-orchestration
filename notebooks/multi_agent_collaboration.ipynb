{
 "cells": [
  {
   "cell_type": "markdown",
   "id": "16df69d3-74d7-413b-82c7-f597f55eea78",
   "metadata": {},
   "source": [
    "# Multi-Agent Collaboration\n",
    "\n",
    "We will delve into the intricacies of agentic service and explore the strategies and best practices for cultivating effective multi-agent collaboration. We will examine how organizations can harness the collective intelligence of their agents, leverage emerging technologies to enhance coordination and communication, and navigate the challenges that often arise in complex, dynamic environments.\n",
    "\n",
    "<img src=\"./images/multiagent.png\" style=\"width:70%;display:block;margin: 0 auto;\" />\n",
    "<br />\n"
   ]
  },
  {
   "cell_type": "code",
   "execution_count": null,
   "id": "898c86e5-10f3-4dc3-93ac-2488b8e69259",
   "metadata": {},
   "outputs": [],
   "source": [
    "#!pip install crewai --force-reinstall\n",
    "#!pip install --force-reinstall -v \"setuptools<70\""
   ]
  },
  {
   "cell_type": "code",
   "execution_count": null,
   "id": "e5b795ed-a9b7-445c-8487-fde81b71fd42",
   "metadata": {},
   "outputs": [],
   "source": [
    "import os, sys\n",
    "from crewai import Agent, Task, Crew, Process\n",
    "from dotenv import load_dotenv\n",
    "from langchain.tools import DuckDuckGoSearchRun\n",
    "module_paths = [\"./\", \"../scripts\"]\n",
    "for module_path in module_paths:\n",
    "    sys.path.append(os.path.abspath(module_path))\n",
    "from bedrock import *\n",
    "from crewai_tools import (\n",
    "    DirectoryReadTool,\n",
    "    FileReadTool,\n",
    "    SerperDevTool,\n",
    "    WebsiteSearchTool\n",
    ")\n",
    "\n",
    "load_dotenv()\n",
    "search_tool = DuckDuckGoSearchRun()\n",
    "web_rag_tool = WebsiteSearchTool()"
   ]
  },
  {
   "cell_type": "markdown",
   "id": "fe7427ba-19da-4d4a-b579-04b747eedef3",
   "metadata": {},
   "source": [
    "## Define agents"
   ]
  },
  {
   "cell_type": "code",
   "execution_count": null,
   "id": "7b479cc6-f898-4bdd-a98a-eeb9b46529dc",
   "metadata": {},
   "outputs": [],
   "source": [
    "class blogAgents():\n",
    "    def planner(self, topic, model_id):\n",
    "        return Agent(\n",
    "            role=\"Content Planner\",\n",
    "            goal=f\"Plan engaging and factually accurate content on {topic}\",\n",
    "            backstory=\"You're working on planning a blog article \"\n",
    "                      f\"about the topic: {topic}.\"\n",
    "                      \"You collect information by searhing the web for the latest developements that directly relate to the {topic}.\"\n",
    "                      \"audience learn something \"\n",
    "                      \"and make informed decisions. \"\n",
    "                      \"Your work is the basis for \"\n",
    "                      \"the Content Writer to write an article on this topic.\",\n",
    "            allow_delegation=False,\n",
    "            tools=[search_tool, web_rag_tool],\n",
    "            llm=get_llm(model_id),\n",
    "            verbose=True\n",
    "        )\n",
    "        \n",
    "    def writer(self, topic, model_id):\n",
    "        return Agent(\n",
    "            role=\"Content Writer\",\n",
    "            goal=f\"Write insightful and factually accurate opinion piece about the topic: {topic}\",\n",
    "            backstory=\"You're working on a writing \"\n",
    "                      f\"a new opinion piece about the topic: {topic}. \"\n",
    "                      \"You base your writing on the work of \"\n",
    "                      \"the Content Planner, who provides an outline \"\n",
    "                      \"and relevant context about the topic. \"\n",
    "                      \"You follow the main objectives and \"\n",
    "                      \"direction of the outline, \"\n",
    "                      \"as provide by the Content Planner. \"\n",
    "                      \"You also provide objective and impartial insights \"\n",
    "                      \"and back them up with information \"\n",
    "                      \"provide by the Content Planner. \"\n",
    "                      \"You acknowledge in your opinion piece \"\n",
    "                      \"when your statements are opinions \"\n",
    "                      \"as opposed to objective statements.\",\n",
    "            allow_delegation=False,\n",
    "            llm=get_llm(model_id),\n",
    "            verbose=True\n",
    "        )\n",
    "\n",
    "    def editor(self, model_id):\n",
    "        return Agent(\n",
    "            role=\"Editor\",\n",
    "            goal=\"Edit a given blog post to align with \"\n",
    "                 \"the writing style of the organization. \",\n",
    "            backstory=\"You are an editor who receives a blog post from the Content Writer. \"\n",
    "                      \"Your goal is to review the blog post to ensure that it follows journalistic best practices,\"\n",
    "                      \"provides balanced viewpoints when providing opinions or assertions, \"\n",
    "                      \"and also avoids major controversial topics or opinions when possible.\",\n",
    "            allow_delegation=False,\n",
    "            llm=get_llm(model_id),\n",
    "            verbose=True\n",
    "        )"
   ]
  },
  {
   "cell_type": "markdown",
   "id": "f412e0e3-5ef8-4ed2-98c5-f44b8996cba0",
   "metadata": {},
   "source": [
    "## Define the tasks (plan, write and edit) for the agents we created above."
   ]
  },
  {
   "cell_type": "code",
   "execution_count": null,
   "id": "44bb42d5-9396-45aa-863e-34ef2a4921a4",
   "metadata": {},
   "outputs": [],
   "source": [
    "class blogTasks():\n",
    "    def plan(self, planner, topic):  \n",
    "        return Task(\n",
    "            description=(\n",
    "                \"1. Prioritize the latest trends, key players, \"\n",
    "                    f\"and noteworthy news on {topic}.\\n\"\n",
    "                \"2. Identify the target audience, considering \"\n",
    "                    \"their interests and pain points.\\n\"\n",
    "                \"3. Develop a detailed content outline including \"\n",
    "                    \"an introduction, key points, and a call to action.\\n\"\n",
    "                \"4. Include SEO keywords and relevant data or sources.\"\n",
    "            ),\n",
    "            expected_output=\"A comprehensive content plan document \"\n",
    "                \"with an outline, audience analysis, \"\n",
    "                \"SEO keywords, and resources.\",\n",
    "            agent=planner,\n",
    "        )\n",
    "    def write(self, writer, topic):  \n",
    "        return Task(\n",
    "            description=(\n",
    "                \"1. Use the content plan to craft a compelling \"\n",
    "                    f\"blog post on {topic}.\\n\"\n",
    "                \"2. Incorporate SEO keywords naturally.\\n\"\n",
    "                \"3. Sections/Subtitles are properly named \"\n",
    "                    \"in an engaging manner.\\n\"\n",
    "                \"4. Ensure the post is structured with an \"\n",
    "                    \"engaging introduction, insightful body, \"\n",
    "                    \"and a summarizing conclusion.\\n\"\n",
    "                \"5. Proofread for grammatical errors and \"\n",
    "                    \"alignment with the brand's voice.\\n\"\n",
    "            ),\n",
    "            expected_output=\"A well-written blog post \"\n",
    "                \"in markdown format, ready for publication, \"\n",
    "                \"each section should have 2 or 3 paragraphs.\",\n",
    "            agent=writer,\n",
    "        )\n",
    "        \n",
    "    def edit(self, editor):\n",
    "        return Task(\n",
    "            description=(\"Proofread the given blog post for \"\n",
    "                         \"grammatical errors and \"\n",
    "                         \"alignment with the brand's voice.\"),\n",
    "            expected_output=\"A well-written blog post in markdown format, \"\n",
    "                            \"ready for publication, \"\n",
    "                            \"each section should have 2 or 3 paragraphs.\",\n",
    "            agent=editor\n",
    "        )"
   ]
  },
  {
   "cell_type": "markdown",
   "id": "77c9e235-2cbc-4d80-bc31-9c43ada63b3a",
   "metadata": {},
   "source": [
    "##  It’s time to assemble the crew. Combine the agents into our awesome crew."
   ]
  },
  {
   "cell_type": "code",
   "execution_count": null,
   "id": "50b03f9f-23d6-4ea6-8f7a-6f8ee56e94db",
   "metadata": {},
   "outputs": [],
   "source": [
    "class blogCrew:\n",
    "  def __init__(self, topic, model_id):\n",
    "      self.topic = topic\n",
    "      self.model_id = model_id\n",
    "\n",
    "  def run(self):\n",
    "    agents = blogAgents()\n",
    "    tasks = blogTasks()\n",
    "\n",
    "    planner_agent = agents.planner(self.topic, self.model_id)\n",
    "    writer_agent = agents.writer(self.topic, self.model_id)\n",
    "    editor_agent = agents.editor(self.model_id)\n",
    "\n",
    "    plan_task = tasks.plan(planner_agent, self.topic)\n",
    "    write_task = tasks.write(writer_agent, self.topic)\n",
    "    edit_task = tasks.edit(editor_agent)\n",
    "\n",
    "\n",
    "    crew = Crew(\n",
    "        agents=[planner_agent, writer_agent, editor_agent],\n",
    "        tasks=[plan_task, write_task, edit_task],\n",
    "        verbose=True,\n",
    "        memory=True,\n",
    "        embedder={\n",
    "            \"provider\": \"huggingface\",\n",
    "            \"config\": {\"model\": \"sentence-transformers/paraphrase-multilingual-MiniLM-L12-v2\"},\n",
    "        },\n",
    "        cache=True,\n",
    "        process=Process.sequential # Sequential process will have tasks executed one after the other and the outcome of the previous one is\n",
    "    )\n",
    "\n",
    "    result = crew.kickoff()\n",
    "    return result"
   ]
  },
  {
   "cell_type": "markdown",
   "id": "998a1a25-5b2d-400b-b8e0-00fd890979b3",
   "metadata": {},
   "source": [
    "## Write a blog post based on the input topic"
   ]
  },
  {
   "cell_type": "code",
   "execution_count": null,
   "id": "4b83fe08-12ed-479c-aefc-2e2c959b33ef",
   "metadata": {
    "scrolled": true
   },
   "outputs": [],
   "source": [
    "topic = \"Write a release note for Amazon Q\"\n",
    "model_id = \"anthropic.claude-3-haiku-20240307-v1:0\"\n",
    "blog_crew = blogCrew(topic, model_id)\n",
    "result = blog_crew.run()"
   ]
  },
  {
   "cell_type": "markdown",
   "id": "791ad4fe-7df5-4f4f-a8ff-e05512ca13d6",
   "metadata": {},
   "source": [
    "## (Optional) Display the final output in markdown format "
   ]
  },
  {
   "cell_type": "code",
   "execution_count": null,
   "id": "9734e88e-36f2-4975-8158-a4f28070c227",
   "metadata": {},
   "outputs": [],
   "source": [
    "from IPython.display import Markdown\n",
    "Markdown(result.raw)"
   ]
  },
  {
   "cell_type": "code",
   "execution_count": null,
   "id": "2c5546b5-6d94-46b4-969f-08efccfeab2e",
   "metadata": {},
   "outputs": [],
   "source": []
  }
 ],
 "metadata": {
  "kernelspec": {
   "display_name": "medf",
   "language": "python",
   "name": "medf"
  },
  "language_info": {
   "codemirror_mode": {
    "name": "ipython",
    "version": 3
   },
   "file_extension": ".py",
   "mimetype": "text/x-python",
   "name": "python",
   "nbconvert_exporter": "python",
   "pygments_lexer": "ipython3",
   "version": "3.11.5"
  }
 },
 "nbformat": 4,
 "nbformat_minor": 5
}
